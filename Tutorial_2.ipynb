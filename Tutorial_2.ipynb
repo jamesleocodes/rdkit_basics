{
 "cells": [
  {
   "cell_type": "markdown",
   "metadata": {},
   "source": [
    "## Introduction"
   ]
  },
  {
   "cell_type": "markdown",
   "metadata": {},
   "source": [
    "This is a short tutorial for a beginner who want study molecular structure with varoious format."
   ]
  },
  {
   "cell_type": "code",
   "execution_count": 155,
   "metadata": {},
   "outputs": [],
   "source": [
    "from rdkit import Chem\n",
    "from rdkit.Chem import AllChem\n",
    "from rdkit.Chem.Draw import IPythonConsole\n",
    "from rdkit.Chem import Draw\n",
    "import pandas as pd\n",
    "from rdkit.Chem import PandasTools\n",
    "from rdkit import DataStructs"
   ]
  },
  {
   "cell_type": "code",
   "execution_count": 14,
   "metadata": {},
   "outputs": [
    {
     "name": "stdout",
     "output_type": "stream",
     "text": [
      "Mon Aug 15 10:31:52 2022\n"
     ]
    }
   ],
   "source": [
    "import time\n",
    "print(time.asctime()) #return by local time"
   ]
  },
  {
   "cell_type": "markdown",
   "metadata": {},
   "source": [
    "The basics chemical functionality(e.g reading/writing molecules, substructure searching, molecular cleanup, etc) is in the rdkit.Chem module. More adavnced or less rrequently used, functionlity is in rdkit.Chem.AllChem."
   ]
  },
  {
   "cell_type": "code",
   "execution_count": 4,
   "metadata": {},
   "outputs": [
    {
     "name": "stdout",
     "output_type": "stream",
     "text": [
      "<rdkit.Chem.rdchem.Mol object at 0x000002DDB8EC93C0>\n"
     ]
    }
   ],
   "source": [
    "mol = \"C1=CC=C2C=C3C=C4C=C5C=CC=CC5=CC4=CC3=CC2=C1\"\n",
    "mol = Chem.MolFromSmiles(mol)\n",
    "print(mol)"
   ]
  },
  {
   "cell_type": "code",
   "execution_count": 5,
   "metadata": {},
   "outputs": [
    {
     "data": {
      "image/png": "[encoded data removed]",
      "text/plain": [
       "<rdkit.Chem.rdchem.Mol at 0x2ddb8ec93c0>"
      ]
     },
     "execution_count": 5,
     "metadata": {},
     "output_type": "execute_result"
    }
   ],
   "source": [
    "mol"
   ]
  },
  {
   "cell_type": "markdown",
   "metadata": {},
   "source": [
    "#### Convert a RDKIT molecule to SMILES"
   ]
  },
  {
   "cell_type": "code",
   "execution_count": 7,
   "metadata": {},
   "outputs": [
    {
     "data": {
      "text/plain": [
       "'c1ccc2cc3cc4cc5ccccc5cc4cc3cc2c1'"
      ]
     },
     "execution_count": 7,
     "metadata": {},
     "output_type": "execute_result"
    }
   ],
   "source": [
    "smi = Chem.MolToSmiles(mol)\n",
    "smi"
   ]
  },
  {
   "cell_type": "markdown",
   "metadata": {},
   "source": [
    "#### Convert a RDKit molecule to InchiKey"
   ]
  },
  {
   "cell_type": "code",
   "execution_count": 8,
   "metadata": {},
   "outputs": [
    {
     "data": {
      "text/plain": [
       "'SLIUAWYAILUBJU-UHFFFAOYSA-N'"
      ]
     },
     "execution_count": 8,
     "metadata": {},
     "output_type": "execute_result"
    }
   ],
   "source": [
    "Chem.MolToInchiKey(mol)"
   ]
  },
  {
   "cell_type": "markdown",
   "metadata": {},
   "source": [
    "#### Convert a RDKit molecule to coordinative representation"
   ]
  },
  {
   "cell_type": "code",
   "execution_count": 9,
   "metadata": {},
   "outputs": [
    {
     "name": "stdout",
     "output_type": "stream",
     "text": [
      "\n",
      "     RDKit          2D\n",
      "\n",
      " 22 26  0  0  0  0  0  0  0  0999 V2000\n",
      "    1.5000    0.0000    0.0000 C   0  0  0  0  0  0  0  0  0  0  0  0\n",
      "    0.7500   -1.2990    0.0000 C   0  0  0  0  0  0  0  0  0  0  0  0\n",
      "   -0.7500   -1.2990    0.0000 C   0  0  0  0  0  0  0  0  0  0  0  0\n",
      "   -1.5000    0.0000    0.0000 C   0  0  0  0  0  0  0  0  0  0  0  0\n",
      "   -3.0000    0.0000    0.0000 C   0  0  0  0  0  0  0  0  0  0  0  0\n",
      "   -3.7500    1.2990    0.0000 C   0  0  0  0  0  0  0  0  0  0  0  0\n",
      "   -5.2500    1.2990    0.0000 C   0  0  0  0  0  0  0  0  0  0  0  0\n",
      "   -6.0000    2.5981    0.0000 C   0  0  0  0  0  0  0  0  0  0  0  0\n",
      "   -7.5000    2.5981    0.0000 C   0  0  0  0  0  0  0  0  0  0  0  0\n",
      "   -8.2500    3.8971    0.0000 C   0  0  0  0  0  0  0  0  0  0  0  0\n",
      "   -9.7500    3.8971    0.0000 C   0  0  0  0  0  0  0  0  0  0  0  0\n",
      "  -10.5000    5.1962    0.0000 C   0  0  0  0  0  0  0  0  0  0  0  0\n",
      "   -9.7500    6.4952    0.0000 C   0  0  0  0  0  0  0  0  0  0  0  0\n",
      "   -8.2500    6.4952    0.0000 C   0  0  0  0  0  0  0  0  0  0  0  0\n",
      "   -7.5000    5.1962    0.0000 C   0  0  0  0  0  0  0  0  0  0  0  0\n",
      "   -6.0000    5.1962    0.0000 C   0  0  0  0  0  0  0  0  0  0  0  0\n",
      "   -5.2500    3.8971    0.0000 C   0  0  0  0  0  0  0  0  0  0  0  0\n",
      "   -3.7500    3.8971    0.0000 C   0  0  0  0  0  0  0  0  0  0  0  0\n",
      "   -3.0000    2.5981    0.0000 C   0  0  0  0  0  0  0  0  0  0  0  0\n",
      "   -1.5000    2.5981    0.0000 C   0  0  0  0  0  0  0  0  0  0  0  0\n",
      "   -0.7500    1.2990    0.0000 C   0  0  0  0  0  0  0  0  0  0  0  0\n",
      "    0.7500    1.2990    0.0000 C   0  0  0  0  0  0  0  0  0  0  0  0\n",
      "  1  2  2  0\n",
      "  2  3  1  0\n",
      "  3  4  2  0\n",
      "  4  5  1  0\n",
      "  5  6  2  0\n",
      "  6  7  1  0\n",
      "  7  8  2  0\n",
      "  8  9  1  0\n",
      "  9 10  2  0\n",
      " 10 11  1  0\n",
      " 11 12  2  0\n",
      " 12 13  1  0\n",
      " 13 14  2  0\n",
      " 14 15  1  0\n",
      " 15 16  2  0\n",
      " 16 17  1  0\n",
      " 17 18  2  0\n",
      " 18 19  1  0\n",
      " 19 20  2  0\n",
      " 20 21  1  0\n",
      " 21 22  2  0\n",
      " 22  1  1  0\n",
      " 21  4  1  0\n",
      " 19  6  1  0\n",
      " 17  8  1  0\n",
      " 15 10  1  0\n",
      "M  END\n",
      "\n"
     ]
    }
   ],
   "source": [
    "mol_block = Chem.MolToMolBlock(mol)\n",
    "print(mol_block)"
   ]
  },
  {
   "cell_type": "markdown",
   "metadata": {},
   "source": [
    "#### Reading sets of molecules"
   ]
  },
  {
   "cell_type": "markdown",
   "metadata": {},
   "source": [
    "Major types of moleculear file formats:\n",
    "* .csv file that contains a column of SMILES\n",
    "* .smi/.txt file that includes SMILES as a list"
   ]
  },
  {
   "cell_type": "markdown",
   "metadata": {},
   "source": [
    "#### Draw molecules in grid"
   ]
  },
  {
   "cell_type": "code",
   "execution_count": 11,
   "metadata": {},
   "outputs": [],
   "source": [
    "smiles = [\n",
    "\n",
    "    \"CC(O)C\",\n",
    "    \"CC(=O)C\",\n",
    "    \"CC(CC)C\",\n",
    "    \"CC(C)CC(=O)\",\n",
    "    \"c1c(N(=O)=O)cccc1\",\n",
    "    \"c1c(N(=O)=O)cccc1\"\n",
    "]\n",
    "\n",
    "mols = [Chem.MolFromSmiles(smi) for smi in smiles]"
   ]
  },
  {
   "cell_type": "code",
   "execution_count": 12,
   "metadata": {},
   "outputs": [
    {
     "data": {
      "image/png": "[encoded data removed]",
      "text/plain": [
       "<IPython.core.display.Image object>"
      ]
     },
     "execution_count": 12,
     "metadata": {},
     "output_type": "execute_result"
    }
   ],
   "source": [
    "Draw.MolsToGridImage(mols, molsPerRow=2, subImgSize=(200, 200))"
   ]
  },
  {
   "cell_type": "markdown",
   "metadata": {},
   "source": [
    "#### PandasTools"
   ]
  },
  {
   "cell_type": "markdown",
   "metadata": {},
   "source": [
    "The PandasTools enables using RDKit molecules as columns of a Pandas DataFrame."
   ]
  },
  {
   "cell_type": "code",
   "execution_count": 238,
   "metadata": {},
   "outputs": [],
   "source": [
    "path = os.getcwd()\n",
    "url = \"https://raw.githubusercontent.com/jamesleocodes/rdkit_basics/master/data/delaney.csv\"\n",
    "data = pd.read_csv(url, usecols = [\"SMILES\",\"measured log(solubility:mol/L)\"])\n",
    "data = data[[\"SMILES\",\"measured log(solubility:mol/L)\"]] # rearrange columns"
   ]
  },
  {
   "cell_type": "code",
   "execution_count": 239,
   "metadata": {},
   "outputs": [
    {
     "data": {
      "text/html": [
       "<div>\n",
       "<style scoped>\n",
       "    .dataframe tbody tr th:only-of-type {\n",
       "        vertical-align: middle;\n",
       "    }\n",
       "\n",
       "    .dataframe tbody tr th {\n",
       "        vertical-align: top;\n",
       "    }\n",
       "\n",
       "    .dataframe thead th {\n",
       "        text-align: right;\n",
       "    }\n",
       "</style>\n",
       "<table border=\"1\" class=\"dataframe\">\n",
       "  <thead>\n",
       "    <tr style=\"text-align: right;\">\n",
       "      <th></th>\n",
       "      <th>SMILES</th>\n",
       "      <th>measured log(solubility:mol/L)</th>\n",
       "    </tr>\n",
       "  </thead>\n",
       "  <tbody>\n",
       "    <tr>\n",
       "      <th>0</th>\n",
       "      <td>ClCC(Cl)(Cl)Cl</td>\n",
       "      <td>-2.18</td>\n",
       "    </tr>\n",
       "    <tr>\n",
       "      <th>1</th>\n",
       "      <td>CC(Cl)(Cl)Cl</td>\n",
       "      <td>-2.00</td>\n",
       "    </tr>\n",
       "    <tr>\n",
       "      <th>2</th>\n",
       "      <td>ClC(Cl)C(Cl)Cl</td>\n",
       "      <td>-1.74</td>\n",
       "    </tr>\n",
       "    <tr>\n",
       "      <th>3</th>\n",
       "      <td>ClCC(Cl)Cl</td>\n",
       "      <td>-1.48</td>\n",
       "    </tr>\n",
       "    <tr>\n",
       "      <th>4</th>\n",
       "      <td>FC(F)(Cl)C(F)(Cl)Cl</td>\n",
       "      <td>-3.04</td>\n",
       "    </tr>\n",
       "  </tbody>\n",
       "</table>\n",
       "</div>"
      ],
      "text/plain": [
       "                SMILES  measured log(solubility:mol/L)\n",
       "0       ClCC(Cl)(Cl)Cl                           -2.18\n",
       "1         CC(Cl)(Cl)Cl                           -2.00\n",
       "2       ClC(Cl)C(Cl)Cl                           -1.74\n",
       "3           ClCC(Cl)Cl                           -1.48\n",
       "4  FC(F)(Cl)C(F)(Cl)Cl                           -3.04"
      ]
     },
     "execution_count": 239,
     "metadata": {},
     "output_type": "execute_result"
    }
   ],
   "source": [
    "data.head()"
   ]
  },
  {
   "cell_type": "markdown",
   "metadata": {},
   "source": [
    "#### Add ROMol to Pandas Dataframe"
   ]
  },
  {
   "cell_type": "code",
   "execution_count": 277,
   "metadata": {},
   "outputs": [
    {
     "data": {
      "text/html": [
       "<div>\n",
       "<style scoped>\n",
       "    .dataframe tbody tr th:only-of-type {\n",
       "        vertical-align: middle;\n",
       "    }\n",
       "\n",
       "    .dataframe tbody tr th {\n",
       "        vertical-align: top;\n",
       "    }\n",
       "\n",
       "    .dataframe thead th {\n",
       "        text-align: right;\n",
       "    }\n",
       "</style>\n",
       "<table border=\"1\" class=\"dataframe\">\n",
       "  <thead>\n",
       "    <tr style=\"text-align: right;\">\n",
       "      <th></th>\n",
       "      <th>SMILES</th>\n",
       "      <th>measured log(solubility:mol/L)</th>\n",
       "      <th>ROMol</th>\n",
       "      <th>Tanimoto_Similarity (ECFP4)</th>\n",
       "    </tr>\n",
       "  </thead>\n",
       "  <tbody>\n",
       "    <tr>\n",
       "      <th>1143</th>\n",
       "      <td>CNC(=O)Oc1cc(C)cc(C)c1</td>\n",
       "      <td>-2.581</td>\n",
       "      <td style=\"text-align: center;\"><img data-content=\"rdkit/molecule\" src=\"data:image/png;base64,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\" alt=\"Mol\"/></td>\n",
       "      <td>0.0</td>\n",
       "    </tr>\n",
       "  </tbody>\n",
       "</table>\n",
       "</div>"
      ],
      "text/plain": [
       "                      SMILES  measured log(solubility:mol/L)  \\\n",
       "1143  CNC(=O)Oc1cc(C)cc(C)c1                          -2.581   \n",
       "\n",
       "                                                  ROMol  \\\n",
       "1143  <img data-content=\"rdkit/molecule\" src=\"data:i...   \n",
       "\n",
       "      Tanimoto_Similarity (ECFP4)  \n",
       "1143                          0.0  "
      ]
     },
     "execution_count": 277,
     "metadata": {},
     "output_type": "execute_result"
    }
   ],
   "source": [
    "PandasTools.AddMoleculeColumnToFrame(data, smilesCol=\"SMILES\")\n",
    "data.tail(1)"
   ]
  },
  {
   "cell_type": "code",
   "execution_count": 241,
   "metadata": {},
   "outputs": [
    {
     "name": "stdout",
     "output_type": "stream",
     "text": [
      "<class 'rdkit.Chem.rdchem.Mol'>\n"
     ]
    }
   ],
   "source": [
    "print(type(data.ROMol[0]))"
   ]
  },
  {
   "cell_type": "markdown",
   "metadata": {},
   "source": [
    "ROMol column stores rdchem.Mol object."
   ]
  },
  {
   "cell_type": "markdown",
   "metadata": {},
   "source": [
    "#### Draw the molecules in grid with values from another columns"
   ]
  },
  {
   "cell_type": "code",
   "execution_count": 243,
   "metadata": {},
   "outputs": [
    {
     "data": {
      "image/png": "[encoded data removed]",
      "text/plain": [
       "<IPython.core.display.Image object>"
      ]
     },
     "execution_count": 243,
     "metadata": {},
     "output_type": "execute_result"
    }
   ],
   "source": [
    "PandasTools.FrameToGridImage(data.tail(8), legendsCol=\"measured log(solubility:mol/L)\", molsPerRow=4)"
   ]
  },
  {
   "cell_type": "code",
   "execution_count": 71,
   "metadata": {},
   "outputs": [],
   "source": [
    "data.to_csv(path+\"/data/clean.csv\")"
   ]
  },
  {
   "cell_type": "markdown",
   "metadata": {},
   "source": [
    "#### Adding new column to dataframe by using map method from pandas."
   ]
  },
  {
   "cell_type": "code",
   "execution_count": 72,
   "metadata": {},
   "outputs": [
    {
     "data": {
      "text/html": [
       "<div>\n",
       "<style scoped>\n",
       "    .dataframe tbody tr th:only-of-type {\n",
       "        vertical-align: middle;\n",
       "    }\n",
       "\n",
       "    .dataframe tbody tr th {\n",
       "        vertical-align: top;\n",
       "    }\n",
       "\n",
       "    .dataframe thead th {\n",
       "        text-align: right;\n",
       "    }\n",
       "</style>\n",
       "<table border=\"1\" class=\"dataframe\">\n",
       "  <thead>\n",
       "    <tr style=\"text-align: right;\">\n",
       "      <th></th>\n",
       "      <th>SMILES</th>\n",
       "      <th>measured log(solubility:mol/L)</th>\n",
       "      <th>ROMol</th>\n",
       "      <th>n_Atoms</th>\n",
       "    </tr>\n",
       "  </thead>\n",
       "  <tbody>\n",
       "    <tr>\n",
       "      <th>0</th>\n",
       "      <td>ClCC(Cl)(Cl)Cl</td>\n",
       "      <td>-2.18</td>\n",
       "      <td style=\"text-align: center;\"><img data-content=\"rdkit/molecule\" src=\"data:image/png;base64,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\" alt=\"Mol\"/></td>\n",
       "      <td>6</td>\n",
       "    </tr>\n",
       "  </tbody>\n",
       "</table>\n",
       "</div>"
      ],
      "text/plain": [
       "           SMILES  measured log(solubility:mol/L)  \\\n",
       "0  ClCC(Cl)(Cl)Cl                           -2.18   \n",
       "\n",
       "                                               ROMol  n_Atoms  \n",
       "0  <img data-content=\"rdkit/molecule\" src=\"data:i...        6  "
      ]
     },
     "execution_count": 72,
     "metadata": {},
     "output_type": "execute_result"
    }
   ],
   "source": [
    "data['n_Atoms'] = data['ROMol'].map(lambda x: x.GetNumAtoms())\n",
    "data.head(1)"
   ]
  },
  {
   "cell_type": "markdown",
   "metadata": {},
   "source": [
    "It is suggested to drop \"ROMol\" column from dataframe for future calculation."
   ]
  },
  {
   "cell_type": "code",
   "execution_count": 46,
   "metadata": {},
   "outputs": [
    {
     "data": {
      "text/html": [
       "<div>\n",
       "<style scoped>\n",
       "    .dataframe tbody tr th:only-of-type {\n",
       "        vertical-align: middle;\n",
       "    }\n",
       "\n",
       "    .dataframe tbody tr th {\n",
       "        vertical-align: top;\n",
       "    }\n",
       "\n",
       "    .dataframe thead th {\n",
       "        text-align: right;\n",
       "    }\n",
       "</style>\n",
       "<table border=\"1\" class=\"dataframe\">\n",
       "  <thead>\n",
       "    <tr style=\"text-align: right;\">\n",
       "      <th></th>\n",
       "      <th>SMILES</th>\n",
       "      <th>measured log(solubility:mol/L)</th>\n",
       "      <th>n_Atoms</th>\n",
       "    </tr>\n",
       "  </thead>\n",
       "  <tbody>\n",
       "    <tr>\n",
       "      <th>0</th>\n",
       "      <td>ClCC(Cl)(Cl)Cl</td>\n",
       "      <td>-2.18</td>\n",
       "      <td>6</td>\n",
       "    </tr>\n",
       "  </tbody>\n",
       "</table>\n",
       "</div>"
      ],
      "text/plain": [
       "           SMILES  measured log(solubility:mol/L)  n_Atoms\n",
       "0  ClCC(Cl)(Cl)Cl                           -2.18        6"
      ]
     },
     "execution_count": 46,
     "metadata": {},
     "output_type": "execute_result"
    }
   ],
   "source": [
    "data = data.drop(['ROMol'], axis=1)\n",
    "data.head(1)"
   ]
  },
  {
   "cell_type": "markdown",
   "metadata": {},
   "source": [
    "#### Descriptors/Fingerprints"
   ]
  },
  {
   "cell_type": "markdown",
   "metadata": {},
   "source": [
    "There are number of built-in function for generating molecular fingerprints/descriptors. The instruction can be found [here.](https://www.rdkit.org/docs/RDKit_Book.html#additional-information-about-the-fingerprints)"
   ]
  },
  {
   "cell_type": "code",
   "execution_count": 265,
   "metadata": {},
   "outputs": [],
   "source": [
    "url = \"https://raw.githubusercontent.com/jamesleocodes/rdkit_basics/master/data/clean.csv\"\n",
    "data = pd.read_csv(url,index_col=0)"
   ]
  },
  {
   "cell_type": "markdown",
   "metadata": {},
   "source": [
    "#### Morgan Fingerprint(ECFPx)"
   ]
  },
  {
   "cell_type": "markdown",
   "metadata": {},
   "source": [
    "AllChem.GetMorganFingerprintAsBitVect Parameters\n",
    "*   radius: no default value, usually set 2 for similarity search and 3 for machine learning.\n",
    "*   nbits: number of bits,default is 2048. 1024 is also widely used.\n",
    "*   other [parameters]([https://www.rdkit.org/docs/source/rdkit.Chem.rdMolDescriptors.html) are usually left to default."
   ]
  },
  {
   "cell_type": "code",
   "execution_count": 266,
   "metadata": {},
   "outputs": [],
   "source": [
    "radius = 3\n",
    "nBits = 1024\n",
    "ECFP6 = [AllChem.GetMorganFingerprintAsBitVect(Chem.MolFromSmiles(x),radius=radius, nBits=nBits) for x in data['SMILES']]"
   ]
  },
  {
   "cell_type": "markdown",
   "metadata": {},
   "source": [
    "ECFP6 fingerprint for each molecule has 1024 bits."
   ]
  },
  {
   "cell_type": "code",
   "execution_count": 267,
   "metadata": {},
   "outputs": [
    {
     "data": {
      "text/plain": [
       "1024"
      ]
     },
     "execution_count": 267,
     "metadata": {},
     "output_type": "execute_result"
    }
   ],
   "source": [
    "len(ECFP6[0])"
   ]
  },
  {
   "cell_type": "markdown",
   "metadata": {},
   "source": [
    "We can save it for machine learning."
   ]
  },
  {
   "cell_type": "code",
   "execution_count": 268,
   "metadata": {},
   "outputs": [
    {
     "data": {
      "text/html": [
       "<div>\n",
       "<style scoped>\n",
       "    .dataframe tbody tr th:only-of-type {\n",
       "        vertical-align: middle;\n",
       "    }\n",
       "\n",
       "    .dataframe tbody tr th {\n",
       "        vertical-align: top;\n",
       "    }\n",
       "\n",
       "    .dataframe thead th {\n",
       "        text-align: right;\n",
       "    }\n",
       "</style>\n",
       "<table border=\"1\" class=\"dataframe\">\n",
       "  <thead>\n",
       "    <tr style=\"text-align: right;\">\n",
       "      <th></th>\n",
       "      <th>Bit_0</th>\n",
       "      <th>Bit_1</th>\n",
       "      <th>Bit_2</th>\n",
       "      <th>Bit_3</th>\n",
       "      <th>Bit_4</th>\n",
       "      <th>Bit_5</th>\n",
       "      <th>Bit_6</th>\n",
       "      <th>Bit_7</th>\n",
       "      <th>Bit_8</th>\n",
       "      <th>Bit_9</th>\n",
       "      <th>...</th>\n",
       "      <th>Bit_1014</th>\n",
       "      <th>Bit_1015</th>\n",
       "      <th>Bit_1016</th>\n",
       "      <th>Bit_1017</th>\n",
       "      <th>Bit_1018</th>\n",
       "      <th>Bit_1019</th>\n",
       "      <th>Bit_1020</th>\n",
       "      <th>Bit_1021</th>\n",
       "      <th>Bit_1022</th>\n",
       "      <th>Bit_1023</th>\n",
       "    </tr>\n",
       "    <tr>\n",
       "      <th>SMILES</th>\n",
       "      <th></th>\n",
       "      <th></th>\n",
       "      <th></th>\n",
       "      <th></th>\n",
       "      <th></th>\n",
       "      <th></th>\n",
       "      <th></th>\n",
       "      <th></th>\n",
       "      <th></th>\n",
       "      <th></th>\n",
       "      <th></th>\n",
       "      <th></th>\n",
       "      <th></th>\n",
       "      <th></th>\n",
       "      <th></th>\n",
       "      <th></th>\n",
       "      <th></th>\n",
       "      <th></th>\n",
       "      <th></th>\n",
       "      <th></th>\n",
       "      <th></th>\n",
       "    </tr>\n",
       "  </thead>\n",
       "  <tbody>\n",
       "    <tr>\n",
       "      <th>ClCC(Cl)(Cl)Cl</th>\n",
       "      <td>0</td>\n",
       "      <td>0</td>\n",
       "      <td>0</td>\n",
       "      <td>0</td>\n",
       "      <td>0</td>\n",
       "      <td>0</td>\n",
       "      <td>0</td>\n",
       "      <td>0</td>\n",
       "      <td>0</td>\n",
       "      <td>0</td>\n",
       "      <td>...</td>\n",
       "      <td>0</td>\n",
       "      <td>0</td>\n",
       "      <td>0</td>\n",
       "      <td>0</td>\n",
       "      <td>0</td>\n",
       "      <td>0</td>\n",
       "      <td>0</td>\n",
       "      <td>0</td>\n",
       "      <td>0</td>\n",
       "      <td>0</td>\n",
       "    </tr>\n",
       "  </tbody>\n",
       "</table>\n",
       "<p>1 rows × 1024 columns</p>\n",
       "</div>"
      ],
      "text/plain": [
       "                Bit_0  Bit_1  Bit_2  Bit_3  Bit_4  Bit_5  Bit_6  Bit_7  Bit_8  \\\n",
       "SMILES                                                                          \n",
       "ClCC(Cl)(Cl)Cl      0      0      0      0      0      0      0      0      0   \n",
       "\n",
       "                Bit_9  ...  Bit_1014  Bit_1015  Bit_1016  Bit_1017  Bit_1018  \\\n",
       "SMILES                 ...                                                     \n",
       "ClCC(Cl)(Cl)Cl      0  ...         0         0         0         0         0   \n",
       "\n",
       "                Bit_1019  Bit_1020  Bit_1021  Bit_1022  Bit_1023  \n",
       "SMILES                                                            \n",
       "ClCC(Cl)(Cl)Cl         0         0         0         0         0  \n",
       "\n",
       "[1 rows x 1024 columns]"
      ]
     },
     "execution_count": 268,
     "metadata": {},
     "output_type": "execute_result"
    }
   ],
   "source": [
    "ecfp6_name = [f'Bit_{i}' for i in range(nBits)]\n",
    "ecfp6_bits = [list(l) for l in ECFP6]\n",
    "df_morgan = pd.DataFrame(ecfp6_bits, index=data.SMILES, columns= ecfp6_name)\n",
    "df_morgan.head(1)\n"
   ]
  },
  {
   "cell_type": "markdown",
   "metadata": {},
   "source": [
    "### Smilarity Search"
   ]
  },
  {
   "cell_type": "markdown",
   "metadata": {},
   "source": [
    "We can compute the similarity of a reference molecule and a list of molecules. Here is an example of using ECFP4 fingerprint to compute the Tanimoto Similarity ( the default metric of DataStructs.FingerprintSimilarity)"
   ]
  },
  {
   "cell_type": "code",
   "execution_count": 269,
   "metadata": {},
   "outputs": [
    {
     "data": {
      "image/png": "[encoded data removed]",
      "text/plain": [
       "<rdkit.Chem.rdchem.Mol at 0x2dde82c95a0>"
      ]
     },
     "execution_count": 269,
     "metadata": {},
     "output_type": "execute_result"
    }
   ],
   "source": [
    "ref_smiles = data.SMILES[0]\n",
    "ref_mol = Chem.MolFromSmiles(ref_smiles)\n",
    "ref_ecfp4_fps = AllChem.GetMorganFingerprintAsBitVect(ref_mol,2)\n",
    "ref_mol"
   ]
  },
  {
   "cell_type": "code",
   "execution_count": 270,
   "metadata": {},
   "outputs": [],
   "source": [
    "bulk_ecfp4_fps = [AllChem.GetMorganFingerprintAsBitVect(Chem.MolFromSmiles(x),2) for x in data['SMILES']]"
   ]
  },
  {
   "cell_type": "code",
   "execution_count": 271,
   "metadata": {},
   "outputs": [],
   "source": [
    "similarity_efcp4 = [DataStructs.FingerprintSimilarity(ref_ecfp4_fps,x) for x in bulk_ecfp4_fps]"
   ]
  },
  {
   "cell_type": "markdown",
   "metadata": {},
   "source": [
    "We can also add the smilarity_efcp4 to the dataframe and visualize the structure and similarity."
   ]
  },
  {
   "cell_type": "code",
   "execution_count": 272,
   "metadata": {},
   "outputs": [],
   "source": [
    "data['Tanimoto_Similarity (ECFP4)'] = similarity_efcp4"
   ]
  },
  {
   "cell_type": "markdown",
   "metadata": {},
   "source": [
    "Sort the result from highest to lowest."
   ]
  },
  {
   "cell_type": "code",
   "execution_count": 273,
   "metadata": {},
   "outputs": [],
   "source": [
    "sorted_data = data.sort_values(['Tanimoto_Similarity (ECFP4)'], ascending=False)"
   ]
  },
  {
   "cell_type": "markdown",
   "metadata": {},
   "source": [
    "The values are from highest to lowest."
   ]
  },
  {
   "cell_type": "code",
   "execution_count": 276,
   "metadata": {},
   "outputs": [
    {
     "data": {
      "text/plain": [
       "0       1.000000\n",
       "579     0.333333\n",
       "1083    0.333333\n",
       "720     0.300000\n",
       "23      0.300000\n",
       "198     0.285714\n",
       "1       0.272727\n",
       "446     0.272727\n",
       "497     0.272727\n",
       "Name: Tanimoto_Similarity (ECFP4), dtype: float64"
      ]
     },
     "execution_count": 276,
     "metadata": {},
     "output_type": "execute_result"
    }
   ],
   "source": [
    "sorted_data['Tanimoto_Similarity (ECFP4)'][0:9]"
   ]
  },
  {
   "cell_type": "code",
   "execution_count": 274,
   "metadata": {},
   "outputs": [
    {
     "data": {
      "image/png": "[encoded data removed]",
      "text/plain": [
       "<IPython.core.display.Image object>"
      ]
     },
     "execution_count": 274,
     "metadata": {},
     "output_type": "execute_result"
    }
   ],
   "source": [
    "mol_list = [Chem.MolFromSmiles(x) for x in sorted_data['SMILES'][0:9]]\n",
    "img = Draw.MolsToGridImage(mol_list)\n",
    "img"
   ]
  },
  {
   "cell_type": "markdown",
   "metadata": {},
   "source": [
    "## More Reading\n",
    "1. [The RDKit Book](https://www.rdkit.org/docs/RDKit_Book.html)\n",
    "2. [RDKit Cookbook](https://www.rdkit.org/docs/Cookbook.html)"
   ]
  }
 ],
 "metadata": {
  "kernelspec": {
   "display_name": "Python 3.10.4 ('atropine_tf')",
   "language": "python",
   "name": "python3"
  },
  "language_info": {
   "codemirror_mode": {
    "name": "ipython",
    "version": 3
   },
   "file_extension": ".py",
   "mimetype": "text/x-python",
   "name": "python",
   "nbconvert_exporter": "python",
   "pygments_lexer": "ipython3",
   "version": "3.10.4"
  },
  "orig_nbformat": 4,
  "vscode": {
   "interpreter": {
    "hash": "ca4554ea6a3a42957e323aac7711fab9d4b859ce44cde6c1a16650e99ec52a0a"
   }
  }
 },
 "nbformat": 4,
 "nbformat_minor": 2
}
